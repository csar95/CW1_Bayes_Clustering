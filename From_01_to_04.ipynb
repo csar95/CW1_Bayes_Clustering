{
 "cells": [
  {
   "cell_type": "code",
   "execution_count": 1,
   "metadata": {},
   "outputs": [],
   "source": [
    "import cv2\n",
    "import pandas as pd\n",
    "import numpy as np\n",
    "\n",
    "def preprocessing(val=True):\n",
    "    \n",
    "    data = pd.read_csv('data/x_train_gr_smpl.csv')\n",
    "    labels = pd.read_csv('data/y_train_smpl.csv')\n",
    "\n",
    "    if(val):\n",
    "        ## ---------------- Data preparation ---------------- ##\n",
    "        X_train = []\n",
    "        for i in range(data.shape[0]):\n",
    "            img = np.uint8(data.iloc[i])\n",
    "            edited = cv2.Canny(img, 10, 30)\n",
    "            edited = cv2.GaussianBlur(edited, (5, 5), 0)\n",
    "            X_train.append(edited.reshape((1,-1))[0])\n",
    "\n",
    "        data = pd.DataFrame(X_train)\n",
    "        ## -------------------------------------------------- ##\n",
    "\n",
    "    return data, labels"
   ]
  },
  {
   "cell_type": "code",
   "execution_count": 2,
   "metadata": {},
   "outputs": [],
   "source": [
    "# Preparing the data without preprocessing\n",
    "\n",
    "from sklearn.model_selection import train_test_split\n",
    "\n",
    "data, labels = preprocessing(False)\n",
    "data['label'] = labels\n",
    "\n",
    "X = data.iloc[:, :-1]\n",
    "y = data['label']\n",
    "\n",
    "# Point 2: Data Randomization\n",
    "X_train, X_test, y_train, y_test = train_test_split(X, y, test_size=0.33)"
   ]
  },
  {
   "cell_type": "code",
   "execution_count": 3,
   "metadata": {},
   "outputs": [
    {
     "name": "stdout",
     "output_type": "stream",
     "text": [
      "              precision    recall  f1-score   support\n",
      "\n",
      "           0       0.29      0.16      0.21       462\n",
      "           1       0.24      0.24      0.24       607\n",
      "           2       0.09      0.77      0.15       133\n",
      "           3       0.78      0.36      0.49       442\n",
      "           4       0.73      0.19      0.30       685\n",
      "           5       0.49      0.46      0.47       724\n",
      "           6       0.41      0.61      0.49       258\n",
      "           7       0.10      0.57      0.17        77\n",
      "           8       0.70      0.09      0.16       699\n",
      "           9       0.12      0.23      0.16        91\n",
      "\n",
      "    accuracy                           0.29      4178\n",
      "   macro avg       0.40      0.37      0.28      4178\n",
      "weighted avg       0.51      0.29      0.31      4178\n",
      "\n"
     ]
    }
   ],
   "source": [
    "# Point 4: Classification with Naive Bayes\n",
    "\n",
    "from sklearn.naive_bayes import GaussianNB\n",
    "from sklearn.metrics import confusion_matrix, classification_report\n",
    "gnb = GaussianNB()\n",
    "\n",
    "y_pred = gnb.fit(X_train, y_train).predict(X_test)\n",
    "\n",
    "print(classification_report(y_test, y_pred))"
   ]
  },
  {
   "cell_type": "code",
   "execution_count": 4,
   "metadata": {},
   "outputs": [],
   "source": [
    "# Preparing the data with preprocessing\n",
    "\n",
    "from sklearn.model_selection import train_test_split\n",
    "\n",
    "data, labels = preprocessing()\n",
    "data['label'] = labels\n",
    "\n",
    "X = data.iloc[:, :-1]\n",
    "y = data['label']\n",
    "\n",
    "# Point 2: Data Randomization\n",
    "X_train, X_test, y_train, y_test = train_test_split(X, y, test_size=0.33)"
   ]
  },
  {
   "cell_type": "code",
   "execution_count": 5,
   "metadata": {},
   "outputs": [
    {
     "name": "stdout",
     "output_type": "stream",
     "text": [
      "              precision    recall  f1-score   support\n",
      "\n",
      "           0       0.51      0.38      0.44       479\n",
      "           1       0.45      0.45      0.45       607\n",
      "           2       0.22      0.74      0.34       139\n",
      "           3       0.78      0.85      0.82       463\n",
      "           4       0.84      0.85      0.85       675\n",
      "           5       1.00      0.81      0.89       713\n",
      "           6       0.74      0.82      0.78       245\n",
      "           7       0.69      0.77      0.73        70\n",
      "           8       0.96      0.74      0.83       691\n",
      "           9       0.79      0.83      0.81        96\n",
      "\n",
      "    accuracy                           0.71      4178\n",
      "   macro avg       0.70      0.72      0.69      4178\n",
      "weighted avg       0.76      0.71      0.72      4178\n",
      "\n"
     ]
    }
   ],
   "source": [
    "# Point 4: Classification with Naive Bayes\n",
    "\n",
    "from sklearn.naive_bayes import GaussianNB\n",
    "from sklearn.metrics import confusion_matrix, classification_report\n",
    "gnb = GaussianNB()\n",
    "\n",
    "y_pred = gnb.fit(X_train, y_train).predict(X_test)\n",
    "\n",
    "print(classification_report(y_test, y_pred))"
   ]
  },
  {
   "cell_type": "code",
   "execution_count": 6,
   "metadata": {},
   "outputs": [
    {
     "data": {
      "text/plain": [
       "array([[184, 154,  60,  35,   1,   0,  31,  10,   3,   1],\n",
       "       [127, 274, 117,  23,   9,   0,  38,   6,   2,  11],\n",
       "       [ 11,   9, 103,   8,   3,   0,   0,   0,   5,   0],\n",
       "       [  5,  55,   9, 393,   1,   0,   0,   0,   0,   0],\n",
       "       [  1,  55,  28,  12, 576,   0,   0,   1,   2,   0],\n",
       "       [  0,  26,  49,   0,  59, 575,   0,   0,   4,   0],\n",
       "       [ 29,   8,   1,   6,   0,   0, 201,   0,   0,   0],\n",
       "       [  0,   0,   7,   0,   1,   0,   0,  54,   0,   8],\n",
       "       [  6,  25,  86,  22,  36,   0,   0,   6, 509,   1],\n",
       "       [  0,   4,   3,   2,   2,   0,   0,   1,   4,  80]])"
      ]
     },
     "execution_count": 6,
     "metadata": {},
     "output_type": "execute_result"
    }
   ],
   "source": [
    "confusion_matrix(y_test, y_pred)"
   ]
  },
  {
   "cell_type": "code",
   "execution_count": 7,
   "metadata": {},
   "outputs": [
    {
     "name": "stdout",
     "output_type": "stream",
     "text": [
      "              precision    recall  f1-score   support\n",
      "\n",
      "           0       0.49      0.39      0.43       575\n",
      "           1       0.53      0.50      0.51      1025\n",
      "           2       0.00      0.00      0.00         0\n",
      "           3       0.75      0.90      0.82       485\n",
      "           4       0.86      0.83      0.84      1265\n",
      "           5       1.00      0.81      0.90      1325\n",
      "           6       0.00      0.00      0.00         0\n",
      "           7       0.00      0.00      0.00         0\n",
      "           8       0.98      0.71      0.82      1235\n",
      "           9       0.00      0.00      0.00         0\n",
      "\n",
      "   micro avg       0.71      0.71      0.71      5910\n",
      "   macro avg       0.46      0.41      0.43      5910\n",
      "weighted avg       0.81      0.71      0.75      5910\n",
      "\n"
     ]
    }
   ],
   "source": [
    "# Trying point 4 without randomizing the data\n",
    "\n",
    "from sklearn.naive_bayes import GaussianNB\n",
    "from sklearn.metrics import classification_report\n",
    "\n",
    "\n",
    "data, labels = preprocessing()\n",
    "data['label'] = labels\n",
    "\n",
    "samples_per_label = int((len(data) * 0.66) / 10)\n",
    "\n",
    "counters = np.zeros(10)\n",
    "\n",
    "data = data.sample(frac=1)\n",
    "selected_train = []\n",
    "selected_test = []\n",
    "\n",
    "for _, dat in data.iterrows():\n",
    "    l = dat['label'] \n",
    "    if(counters[l] < samples_per_label):\n",
    "        selected_train.append(dat)\n",
    "        counters[l] = counters[l] + 1\n",
    "    else:\n",
    "        selected_test.append(dat)\n",
    "        \n",
    "df_train = pd.DataFrame(data=selected_train, columns=data.columns)\n",
    "X_train = df_train.iloc[:, :-1]\n",
    "y_train = df_train['label']\n",
    "\n",
    "df_test = pd.DataFrame(data=selected_test, columns=data.columns)\n",
    "X_test = df_test.iloc[:, :-1]\n",
    "y_test = df_test['label']\n",
    "\n",
    "gnb = GaussianNB()\n",
    "y_pred = gnb.fit(X_train, y_train).predict(X_test)\n",
    "\n",
    "print(classification_report(y_test, y_pred))"
   ]
  }
 ],
 "metadata": {
  "kernelspec": {
   "display_name": "Python 3",
   "language": "python",
   "name": "python3"
  },
  "language_info": {
   "codemirror_mode": {
    "name": "ipython",
    "version": 3
   },
   "file_extension": ".py",
   "mimetype": "text/x-python",
   "name": "python",
   "nbconvert_exporter": "python",
   "pygments_lexer": "ipython3",
   "version": "3.7.1"
  }
 },
 "nbformat": 4,
 "nbformat_minor": 4
}
