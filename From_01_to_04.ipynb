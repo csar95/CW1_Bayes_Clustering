{
 "cells": [
  {
   "cell_type": "code",
   "execution_count": 18,
   "metadata": {},
   "outputs": [],
   "source": [
    "import pandas as pd\n",
    "\n",
    "data = pd.read_csv('data/x_train_gr_smpl.csv')\n",
    "labels = pd.read_csv('data/y_train_smpl.csv')\n",
    "\n",
    "data['label'] = labels\n",
    "\n",
    "# The train_test_split already shuffles the data\n",
    "# data = data.sample(frac=1)"
   ]
  },
  {
   "cell_type": "code",
   "execution_count": 19,
   "metadata": {},
   "outputs": [],
   "source": [
    "from sklearn.model_selection import train_test_split\n",
    "\n",
    "X = data.iloc[:, :-1]\n",
    "y = data['label']\n",
    "\n",
    "# Point 2: Data Randomization\n",
    "X_train, X_test, y_train, y_test = train_test_split(X, y, test_size=0.33)"
   ]
  },
  {
   "cell_type": "code",
   "execution_count": 20,
   "metadata": {},
   "outputs": [
    {
     "name": "stdout",
     "output_type": "stream",
     "text": [
      "              precision    recall  f1-score   support\n",
      "\n",
      "           0       0.25      0.14      0.18       458\n",
      "           1       0.26      0.23      0.25       641\n",
      "           2       0.08      0.85      0.15       119\n",
      "           3       0.77      0.38      0.51       425\n",
      "           4       0.79      0.21      0.34       696\n",
      "           5       0.51      0.45      0.48       737\n",
      "           6       0.36      0.59      0.45       247\n",
      "           7       0.10      0.59      0.17        75\n",
      "           8       0.72      0.09      0.16       682\n",
      "           9       0.19      0.26      0.22        98\n",
      "\n",
      "    accuracy                           0.30      4178\n",
      "   macro avg       0.40      0.38      0.29      4178\n",
      "weighted avg       0.51      0.30      0.32      4178\n",
      "\n"
     ]
    }
   ],
   "source": [
    "# Point 4: Classification with Naive Bayes\n",
    "\n",
    "from sklearn.naive_bayes import GaussianNB\n",
    "from sklearn.metrics import confusion_matrix, classification_report\n",
    "gnb = GaussianNB()\n",
    "\n",
    "y_pred = gnb.fit(X_train, y_train).predict(X_test)\n",
    "\n",
    "print(classification_report(y_test, y_pred))"
   ]
  },
  {
   "cell_type": "code",
   "execution_count": null,
   "metadata": {},
   "outputs": [],
   "source": []
  }
 ],
 "metadata": {
  "kernelspec": {
   "display_name": "Python 3",
   "language": "python",
   "name": "python3"
  },
  "language_info": {
   "codemirror_mode": {
    "name": "ipython",
    "version": 3
   },
   "file_extension": ".py",
   "mimetype": "text/x-python",
   "name": "python",
   "nbconvert_exporter": "python",
   "pygments_lexer": "ipython3",
   "version": "3.7.4"
  }
 },
 "nbformat": 4,
 "nbformat_minor": 4
}
