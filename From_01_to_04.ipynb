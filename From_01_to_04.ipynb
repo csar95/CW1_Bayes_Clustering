{
 "cells": [
  {
   "cell_type": "code",
   "execution_count": 5,
   "metadata": {},
   "outputs": [],
   "source": [
    "import pandas as pd\n",
    "\n",
    "import numpy as np\n",
    "import cv2\n",
    "\n",
    "data = pd.read_csv('data/x_train_gr_smpl.csv')\n",
    "labels = pd.read_csv('data/y_train_smpl.csv')\n",
    "\n",
    "## ---------------- Data preparation ---------------- ##\n",
    "X_train = []\n",
    "for i in range(data.shape[0]):\n",
    "    img = np.uint8(data.iloc[i])\n",
    "    edited = cv2.Canny(img, 10, 30)\n",
    "    edited = cv2.GaussianBlur(edited, (5, 5), 0)\n",
    "    X_train.append(edited.reshape((1,-1))[0])\n",
    "    \n",
    "data = pd.DataFrame(X_train)\n",
    "## -------------------------------------------------- ##\n",
    "\n",
    "data['label'] = labels\n",
    "\n",
    "# The train_test_split already shuffles the data\n",
    "# data = data.sample(frac=1)"
   ]
  },
  {
   "cell_type": "code",
   "execution_count": 6,
   "metadata": {},
   "outputs": [],
   "source": [
    "from sklearn.model_selection import train_test_split\n",
    "\n",
    "X = data.iloc[:, :-1]\n",
    "y = data['label']\n",
    "\n",
    "# Point 2: Data Randomization\n",
    "X_train, X_test, y_train, y_test = train_test_split(X, y, test_size=0.33)"
   ]
  },
  {
   "cell_type": "code",
   "execution_count": 7,
   "metadata": {},
   "outputs": [
    {
     "name": "stdout",
     "output_type": "stream",
     "text": [
      "              precision    recall  f1-score   support\n",
      "\n",
      "           0       0.50      0.36      0.42       477\n",
      "           1       0.45      0.49      0.47       616\n",
      "           2       0.26      0.72      0.38       146\n",
      "           3       0.77      0.85      0.81       419\n",
      "           4       0.86      0.83      0.85       703\n",
      "           5       1.00      0.83      0.91       716\n",
      "           6       0.71      0.86      0.78       243\n",
      "           7       0.64      0.76      0.69        66\n",
      "           8       0.96      0.74      0.84       702\n",
      "           9       0.74      0.86      0.79        90\n",
      "\n",
      "    accuracy                           0.71      4178\n",
      "   macro avg       0.69      0.73      0.69      4178\n",
      "weighted avg       0.75      0.71      0.72      4178\n",
      "\n"
     ]
    }
   ],
   "source": [
    "# Point 4: Classification with Naive Bayes\n",
    "\n",
    "from sklearn.naive_bayes import GaussianNB\n",
    "from sklearn.metrics import confusion_matrix, classification_report\n",
    "gnb = GaussianNB()\n",
    "\n",
    "y_pred = gnb.fit(X_train, y_train).predict(X_test)\n",
    "\n",
    "print(classification_report(y_test, y_pred))"
   ]
  },
  {
   "cell_type": "code",
   "execution_count": null,
   "metadata": {},
   "outputs": [],
   "source": []
  }
 ],
 "metadata": {
  "kernelspec": {
   "display_name": "Python 3",
   "language": "python",
   "name": "python3"
  },
  "language_info": {
   "codemirror_mode": {
    "name": "ipython",
    "version": 3
   },
   "file_extension": ".py",
   "mimetype": "text/x-python",
   "name": "python",
   "nbconvert_exporter": "python",
   "pygments_lexer": "ipython3",
   "version": "3.7.4"
  }
 },
 "nbformat": 4,
 "nbformat_minor": 4
}
