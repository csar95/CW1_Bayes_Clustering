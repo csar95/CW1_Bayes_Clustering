{
 "cells": [
  {
   "cell_type": "code",
   "execution_count": 1,
   "metadata": {},
   "outputs": [],
   "source": [
    "import cv2\n",
    "import pandas as pd\n",
    "import numpy as np\n",
    "\n",
    "def preprocessing(val=True):\n",
    "    \n",
    "    data = pd.read_csv('data/x_train_gr_smpl.csv')\n",
    "    labels = pd.read_csv('data/y_train_smpl.csv')\n",
    "\n",
    "    if(val):\n",
    "        ## ---------------- Data preparation ---------------- ##\n",
    "        X_train = []\n",
    "        for i in range(data.shape[0]):\n",
    "            img = np.uint8(data.iloc[i])\n",
    "            edited = cv2.Canny(img, 10, 30)\n",
    "            edited = cv2.GaussianBlur(edited, (5, 5), 0)\n",
    "            X_train.append(edited.reshape((1,-1))[0])\n",
    "\n",
    "        data = pd.DataFrame(X_train)\n",
    "        ## -------------------------------------------------- ##\n",
    "\n",
    "    return data, labels"
   ]
  },
  {
   "cell_type": "code",
   "execution_count": 2,
   "metadata": {},
   "outputs": [],
   "source": [
    "from sklearn.model_selection import train_test_split\n",
    "\n",
    "data, labels = preprocessing(False)\n",
    "data['label'] = labels\n",
    "\n",
    "X = data.iloc[:, :-1]\n",
    "y = data['label']\n",
    "\n",
    "# Point 2: Data Randomization\n",
    "X_train, X_test, y_train, y_test = train_test_split(X, y, test_size=0.33)"
   ]
  },
  {
   "cell_type": "code",
   "execution_count": 3,
   "metadata": {},
   "outputs": [
    {
     "name": "stdout",
     "output_type": "stream",
     "text": [
      "              precision    recall  f1-score   support\n",
      "\n",
      "           0       0.30      0.15      0.20       453\n",
      "           1       0.24      0.22      0.23       586\n",
      "           2       0.09      0.80      0.16       136\n",
      "           3       0.83      0.38      0.52       445\n",
      "           4       0.81      0.23      0.35       730\n",
      "           5       0.50      0.46      0.48       728\n",
      "           6       0.38      0.62      0.47       237\n",
      "           7       0.11      0.57      0.18        87\n",
      "           8       0.70      0.10      0.17       682\n",
      "           9       0.11      0.19      0.14        94\n",
      "\n",
      "    accuracy                           0.30      4178\n",
      "   macro avg       0.41      0.37      0.29      4178\n",
      "weighted avg       0.53      0.30      0.32      4178\n",
      "\n"
     ]
    }
   ],
   "source": [
    "# Point 4: Classification with Naive Bayes\n",
    "\n",
    "from sklearn.naive_bayes import GaussianNB\n",
    "from sklearn.metrics import confusion_matrix, classification_report\n",
    "gnb = GaussianNB()\n",
    "\n",
    "y_pred = gnb.fit(X_train, y_train).predict(X_test)\n",
    "\n",
    "print(classification_report(y_test, y_pred))"
   ]
  },
  {
   "cell_type": "code",
   "execution_count": 4,
   "metadata": {},
   "outputs": [],
   "source": [
    "from sklearn.model_selection import train_test_split\n",
    "\n",
    "data, labels = preprocessing()\n",
    "data['label'] = labels\n",
    "\n",
    "X = data.iloc[:, :-1]\n",
    "y = data['label']\n",
    "\n",
    "# Point 2: Data Randomization\n",
    "X_train, X_test, y_train, y_test = train_test_split(X, y, test_size=0.33)"
   ]
  },
  {
   "cell_type": "code",
   "execution_count": 5,
   "metadata": {},
   "outputs": [
    {
     "name": "stdout",
     "output_type": "stream",
     "text": [
      "              precision    recall  f1-score   support\n",
      "\n",
      "           0       0.47      0.37      0.41       451\n",
      "           1       0.46      0.47      0.46       630\n",
      "           2       0.20      0.73      0.32       139\n",
      "           3       0.79      0.84      0.82       427\n",
      "           4       0.85      0.81      0.83       716\n",
      "           5       1.00      0.82      0.90       706\n",
      "           6       0.77      0.85      0.81       264\n",
      "           7       0.73      0.76      0.74        78\n",
      "           8       0.93      0.72      0.81       658\n",
      "           9       0.81      0.75      0.78       109\n",
      "\n",
      "    accuracy                           0.70      4178\n",
      "   macro avg       0.70      0.71      0.69      4178\n",
      "weighted avg       0.75      0.70      0.72      4178\n",
      "\n"
     ]
    }
   ],
   "source": [
    "# Point 4: Classification with Naive Bayes\n",
    "\n",
    "from sklearn.naive_bayes import GaussianNB\n",
    "from sklearn.metrics import confusion_matrix, classification_report\n",
    "gnb = GaussianNB()\n",
    "\n",
    "y_pred = gnb.fit(X_train, y_train).predict(X_test)\n",
    "\n",
    "print(classification_report(y_test, y_pred))"
   ]
  }
 ],
 "metadata": {
  "kernelspec": {
   "display_name": "Python 3",
   "language": "python",
   "name": "python3"
  },
  "language_info": {
   "codemirror_mode": {
    "name": "ipython",
    "version": 3
   },
   "file_extension": ".py",
   "mimetype": "text/x-python",
   "name": "python",
   "nbconvert_exporter": "python",
   "pygments_lexer": "ipython3",
   "version": "3.7.4"
  }
 },
 "nbformat": 4,
 "nbformat_minor": 4
}
