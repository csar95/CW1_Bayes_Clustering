{
 "cells": [
  {
   "cell_type": "code",
   "execution_count": 1,
   "metadata": {},
   "outputs": [],
   "source": [
    "import cv2\n",
    "import pandas as pd\n",
    "import numpy as np\n",
    "\n",
    "def preprocessing(val=True):\n",
    "    \n",
    "    data = pd.read_csv('data/x_train_gr_smpl.csv')\n",
    "    labels = pd.read_csv('data/y_train_smpl.csv')\n",
    "\n",
    "    if(val):\n",
    "        ## ---------------- Data preparation ---------------- ##\n",
    "        X_train = []\n",
    "        for i in range(data.shape[0]):\n",
    "            img = np.uint8(data.iloc[i])\n",
    "            edited = cv2.Canny(img, 10, 30)\n",
    "            edited = cv2.GaussianBlur(edited, (5, 5), 0)\n",
    "            X_train.append(edited.reshape((1,-1))[0])\n",
    "\n",
    "        data = pd.DataFrame(X_train)\n",
    "        ## -------------------------------------------------- ##\n",
    "\n",
    "    return data, labels"
   ]
  },
  {
   "cell_type": "code",
   "execution_count": 2,
   "metadata": {},
   "outputs": [],
   "source": [
    "from sklearn.cluster import KMeans\n",
    "from sklearn.metrics import homogeneity_score"
   ]
  },
  {
   "cell_type": "code",
   "execution_count": 3,
   "metadata": {},
   "outputs": [
    {
     "name": "stdout",
     "output_type": "stream",
     "text": [
      "0.10029982093600802\n"
     ]
    }
   ],
   "source": [
    "# NO labels NO preprocessing\n",
    "data, labels = preprocessing(False)\n",
    "labels = np.reshape(labels.values, newshape=(1, -1))\n",
    "\n",
    "estimator = KMeans(n_clusters=10, max_iter=50000, init='random', random_state=1, n_jobs=-1).fit(data)\n",
    "print(homogeneity_score(labels[0], estimator.labels_))"
   ]
  },
  {
   "cell_type": "code",
   "execution_count": 4,
   "metadata": {},
   "outputs": [
    {
     "name": "stdout",
     "output_type": "stream",
     "text": [
      "0.09738081664029646\n"
     ]
    }
   ],
   "source": [
    "# YES labels NO preprocessing\n",
    "data, labels = preprocessing(False)\n",
    "data['label'] = labels\n",
    "data = data.sample(frac=1)\n",
    "\n",
    "X_training = data.iloc[:10000]\n",
    "X_test = data.iloc[10000:]\n",
    "y_test = X_test['label']\n",
    "\n",
    "estimator = KMeans(n_clusters=10, max_iter=50000, random_state=1, n_jobs=-1).fit(X_training)\n",
    "e = estimator.predict(X_test)\n",
    "print(homogeneity_score(y_test.values, e))"
   ]
  },
  {
   "cell_type": "code",
   "execution_count": 5,
   "metadata": {},
   "outputs": [
    {
     "name": "stdout",
     "output_type": "stream",
     "text": [
      "0.4924864156309917\n"
     ]
    }
   ],
   "source": [
    "# NO labels YES preprocessing\n",
    "data, labels = preprocessing()\n",
    "labels = np.reshape(labels.values, newshape=(1, -1))\n",
    "\n",
    "estimator = KMeans(n_clusters=10, max_iter=50000, init='random', random_state=1, n_jobs=-1).fit(data)\n",
    "print(homogeneity_score(labels[0], estimator.labels_))"
   ]
  },
  {
   "cell_type": "code",
   "execution_count": 6,
   "metadata": {},
   "outputs": [
    {
     "name": "stdout",
     "output_type": "stream",
     "text": [
      "0.5040984761555782\n"
     ]
    }
   ],
   "source": [
    "# YES labels YES preprocessing\n",
    "data, labels = preprocessing()\n",
    "data['label'] = labels\n",
    "data = data.sample(frac=1)\n",
    "\n",
    "X_training = data.iloc[:10000]\n",
    "X_test = data.iloc[10000:]\n",
    "y_test = X_test['label']\n",
    "\n",
    "estimator = KMeans(n_clusters=10, max_iter=50000, random_state=1, n_jobs=-1).fit(X_training)\n",
    "e = estimator.predict(X_test)\n",
    "print(homogeneity_score(y_test.values, e))"
   ]
  },
  {
   "cell_type": "code",
   "execution_count": 12,
   "metadata": {},
   "outputs": [
    {
     "name": "stdout",
     "output_type": "stream",
     "text": [
      "0.5795515321252357\n"
     ]
    }
   ],
   "source": [
    "# Testing with the top 10 correlated features for each label. (NO labels YES preprocessing)\n",
    "\n",
    "top_10_array = set()\n",
    "\n",
    "data, _ = preprocessing()\n",
    "\n",
    "for i in range(10):\n",
    "    data = data.reindex(np.arange(data.shape[0]))\n",
    "    labels = pd.read_csv(f'data/y_train_smpl_{i}.csv')\n",
    "    data['label'] = labels\n",
    "    data = data.sample(frac=1)\n",
    "    \n",
    "    corr_label = data.drop(\"label\", axis=1).apply(lambda x: x.corr(data.label))\n",
    "    corr_label = [(index, abs(corr_val), i) for index, corr_val in enumerate(corr_label)]\n",
    "    corr_label = sorted(corr_label, key=lambda tup: tup[1], reverse=True)  # Order by correlation value\n",
    "            \n",
    "    for tup in corr_label[:10]:\n",
    "        top_10_array.add(tup[0])\n",
    "        \n",
    "data, labels = preprocessing()\n",
    "data_top_10 = data[data.columns[list(top_10_array)]].copy(deep=True)\n",
    "\n",
    "labels = np.reshape(labels.values, newshape=(1, -1))\n",
    "estimator = KMeans(n_clusters=10, max_iter=50000, init='random', random_state=1, n_jobs=-1).fit(data_top_10)\n",
    "print(homogeneity_score(labels[0], estimator.labels_))"
   ]
  }
 ],
 "metadata": {
  "kernelspec": {
   "display_name": "Python 3",
   "language": "python",
   "name": "python3"
  },
  "language_info": {
   "codemirror_mode": {
    "name": "ipython",
    "version": 3
   },
   "file_extension": ".py",
   "mimetype": "text/x-python",
   "name": "python",
   "nbconvert_exporter": "python",
   "pygments_lexer": "ipython3",
   "version": "3.6.8"
  }
 },
 "nbformat": 4,
 "nbformat_minor": 2
}
