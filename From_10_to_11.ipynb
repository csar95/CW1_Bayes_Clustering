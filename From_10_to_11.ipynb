{
 "cells": [
  {
   "cell_type": "code",
   "execution_count": 24,
   "metadata": {},
   "outputs": [],
   "source": [
    "import pandas as pd\n",
    "import numpy as np\n",
    "from sklearn.cluster import KMeans\n",
    "from sklearn.metrics import homogeneity_score\n",
    "\n",
    "data = pd.read_csv('data/x_train_gr_smpl.csv')\n",
    "\n",
    "estimator = KMeans(n_clusters=10, max_iter=50000, init='random', random_state=1, n_jobs=-1).fit(data)\n",
    "\n",
    "labels = pd.read_csv('data/y_train_smpl.csv')\n",
    "labels = np.reshape(labels.values, newshape=(1, -1))"
   ]
  },
  {
   "cell_type": "code",
   "execution_count": 25,
   "metadata": {},
   "outputs": [
    {
     "name": "stdout",
     "output_type": "stream",
     "text": [
      "0.10029982093600802\n"
     ]
    }
   ],
   "source": [
    "print(homogeneity_score(labels[0], estimator.labels_))"
   ]
  },
  {
   "cell_type": "code",
   "execution_count": 10,
   "metadata": {},
   "outputs": [],
   "source": [
    "from sklearn.cluster import KMeans\n",
    "import pandas as pd\n",
    "\n",
    "data = pd.read_csv('data/x_train_gr_smpl.csv')\n",
    "labels = pd.read_csv('data/y_train_smpl.csv')\n",
    "data['label'] = labels\n",
    "data = data.sample(frac=1)\n",
    "X_training = data.iloc[:10000]\n",
    "X_test = data.iloc[10000:]\n",
    "y_test = X_test['label']\n",
    "#X_test = X_test.drop(['label'], axis=1)\n",
    "estimator = KMeans(n_clusters=10, max_iter=50000, random_state=1, n_jobs=-1).fit(X_training)\n",
    "e = estimator.predict(X_test)"
   ]
  },
  {
   "cell_type": "code",
   "execution_count": 11,
   "metadata": {},
   "outputs": [
    {
     "name": "stdout",
     "output_type": "stream",
     "text": [
      "0.1148330725669916\n"
     ]
    }
   ],
   "source": [
    "from sklearn.metrics import homogeneity_score\n",
    "print(homogeneity_score(y_test.values, e))"
   ]
  },
  {
   "cell_type": "code",
   "execution_count": 2,
   "metadata": {},
   "outputs": [],
   "source": [
    "from sklearn.neighbors import NearestNeighbors\n",
    "from sklearn.model_selection import train_test_split\n",
    "import pandas as pd\n",
    "\n",
    "data = pd.read_csv('data/x_train_gr_smpl.csv')\n",
    "labels = pd.read_csv('data/y_train_smpl.csv')\n",
    "X_train, X_test, y_train, y_test = train_test_split(data, labels, test_size=0.33)\n",
    "nbrs = NearestNeighbors(n_neighbors=2, algorithm='ball_tree').fit(data)\n",
    "distances, indices = nbrs.kneighbors(data)"
   ]
  },
  {
   "cell_type": "code",
   "execution_count": null,
   "metadata": {},
   "outputs": [],
   "source": []
  }
 ],
 "metadata": {
  "kernelspec": {
   "display_name": "Python 3",
   "language": "python",
   "name": "python3"
  },
  "language_info": {
   "codemirror_mode": {
    "name": "ipython",
    "version": 3
   },
   "file_extension": ".py",
   "mimetype": "text/x-python",
   "name": "python",
   "nbconvert_exporter": "python",
   "pygments_lexer": "ipython3",
   "version": "3.7.4"
  }
 },
 "nbformat": 4,
 "nbformat_minor": 2
}
