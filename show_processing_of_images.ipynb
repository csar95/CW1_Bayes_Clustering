{
 "cells": [
  {
   "cell_type": "code",
   "execution_count": 1,
   "metadata": {},
   "outputs": [],
   "source": [
    "import cv2\n",
    "import pandas as pd\n",
    "import numpy as np\n",
    "\n",
    "def preprocessing(val=True):\n",
    "    \n",
    "    data = pd.read_csv('data/x_train_gr_smpl.csv')\n",
    "    labels = pd.read_csv('data/y_train_smpl.csv')\n",
    "\n",
    "    if(val):\n",
    "        ## ---------------- Data preparation ---------------- ##\n",
    "        X_train = []\n",
    "        for i in range(data.shape[0]):\n",
    "            img = np.uint8(data.iloc[i])\n",
    "            edited = cv2.Canny(img, 10, 30)\n",
    "            edited = cv2.GaussianBlur(edited, (5, 5), 0)\n",
    "            X_train.append(edited.reshape((1,-1))[0])\n",
    "\n",
    "        data = pd.DataFrame(X_train)\n",
    "        ## -------------------------------------------------- ##\n",
    "\n",
    "    return data, labels"
   ]
  },
  {
   "cell_type": "code",
   "execution_count": 2,
   "metadata": {},
   "outputs": [
    {
     "data": {
      "image/png": "[encoded data removed]",
      "text/plain": [
       "<Figure size 432x288 with 3 Axes>"
      ]
     },
     "metadata": {},
     "output_type": "display_data"
    }
   ],
   "source": [
    "import matplotlib.pyplot as plt\n",
    "\n",
    "df, _ = preprocessing(False)\n",
    "\n",
    "i = 200\n",
    "img = np.uint8(df.iloc[i])\n",
    "\n",
    "canny = cv2.Canny(img, 10, 30)\n",
    "blur = cv2.GaussianBlur(canny, (5, 5), 0)\n",
    "\n",
    "#edited = cv2.findContours(img, cv2.RETR_TREE, cv2.CHAIN_APPROX_SIMPLE)\n",
    "#edited = cv2.adaptiveThreshold(edited,255,cv2.ADAPTIVE_THRESH_GAUSSIAN_C,cv2.THRESH_BINARY_INV,11,2)\n",
    "\n",
    "img = img.reshape((48, 48))\n",
    "canny = canny.reshape((48, 48))\n",
    "blur = blur.reshape((48, 48))\n",
    "\n",
    "plt.subplot(131)\n",
    "plt.imshow(img, cmap='gray')\n",
    "plt.xticks([]), plt.yticks([])\n",
    "\n",
    "plt.subplot(132)\n",
    "plt.imshow(canny, 'gray')\n",
    "plt.xticks([]), plt.yticks([])\n",
    "\n",
    "plt.subplot(133)\n",
    "plt.imshow(blur, 'gray')\n",
    "plt.xticks([]), plt.yticks([])\n",
    "\n",
    "plt.show()"
   ]
  }
 ],
 "metadata": {
  "kernelspec": {
   "display_name": "Python 3",
   "language": "python",
   "name": "python3"
  },
  "language_info": {
   "codemirror_mode": {
    "name": "ipython",
    "version": 3
   },
   "file_extension": ".py",
   "mimetype": "text/x-python",
   "name": "python",
   "nbconvert_exporter": "python",
   "pygments_lexer": "ipython3",
   "version": "3.7.1"
  }
 },
 "nbformat": 4,
 "nbformat_minor": 2
}
