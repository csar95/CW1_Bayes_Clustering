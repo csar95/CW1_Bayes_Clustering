{
 "cells": [
  {
   "cell_type": "code",
   "execution_count": null,
   "metadata": {},
   "outputs": [],
   "source": [
    "import cv2\n",
    "import pandas as pd\n",
    "import numpy as np\n",
    "\n",
    "def preprocessing(val=True):\n",
    "    \n",
    "    data = pd.read_csv('data/x_train_gr_smpl.csv')\n",
    "    labels = pd.read_csv('data/y_train_smpl.csv')\n",
    "\n",
    "    if(val):\n",
    "        ## ---------------- Data preparation ---------------- ##\n",
    "        X_train = []\n",
    "        for i in range(data.shape[0]):\n",
    "            img = np.uint8(data.iloc[i])\n",
    "            edited = cv2.Canny(img, 10, 30)\n",
    "            edited = cv2.GaussianBlur(edited, (5, 5), 0)\n",
    "            X_train.append(edited.reshape((1,-1))[0])\n",
    "\n",
    "        data = pd.DataFrame(X_train)\n",
    "        ## -------------------------------------------------- ##\n",
    "\n",
    "    return data, labels"
   ]
  },
  {
   "cell_type": "code",
   "execution_count": 1,
   "metadata": {},
   "outputs": [],
   "source": [
    "# Point 5: Deeper analysis of the data\n",
    "\n",
    "top_2_array = set()\n",
    "top_5_array = set()\n",
    "top_10_array = set()\n",
    "\n",
    "bottom_2_array = set()\n",
    "bottom_5_array = set()\n",
    "bottom_10_array = set()\n",
    "\n",
    "data, _ = preprocessing()\n",
    "\n",
    "for i in range(10):\n",
    "    data = data.reindex(np.arange(data.shape[0]))\n",
    "    labels = pd.read_csv(f'data/y_train_smpl_{i}.csv')\n",
    "    data['label'] = labels\n",
    "    data = data.sample(frac=1)\n",
    "    \n",
    "    corr_label = data.drop(\"label\", axis=1).apply(lambda x: x.corr(data.label))\n",
    "    corr_label = [(index, abs(corr_val), i) for index, corr_val in enumerate(corr_label)]\n",
    "    corr_label = sorted(corr_label, key=lambda tup: tup[1], reverse=True)  # Order by correlation value\n",
    "            \n",
    "    for i, tup in enumerate(corr_label[:10]):\n",
    "        if i < 2:\n",
    "            top_2_array.add(tup[0])\n",
    "        if i < 5:\n",
    "            top_5_array.add(tup[0])\n",
    "        if i < 10:\n",
    "            top_10_array.add(tup[0]) #, tup[2]))\n",
    "            \n",
    "    for i, tup in enumerate(corr_label[-10:]):\n",
    "        if i < 2:\n",
    "            bottom_2_array.add(tup[0])\n",
    "        if i < 5:\n",
    "            bottom_5_array.add(tup[0])\n",
    "        if i < 10:\n",
    "            bottom_10_array.add(tup[0])"
   ]
  },
  {
   "cell_type": "code",
   "execution_count": 10,
   "metadata": {},
   "outputs": [],
   "source": [
    "# Point 6: Try to improve the classification\n",
    "\n",
    "from sklearn.model_selection import train_test_split\n",
    "from sklearn.naive_bayes import GaussianNB\n",
    "from sklearn.metrics import confusion_matrix, classification_report\n",
    "\n",
    "data, labels = preprocessing()"
   ]
  },
  {
   "cell_type": "code",
   "execution_count": 11,
   "metadata": {},
   "outputs": [
    {
     "name": "stdout",
     "output_type": "stream",
     "text": [
      "              precision    recall  f1-score   support\n",
      "\n",
      "           0       0.63      0.42      0.51       478\n",
      "           1       0.54      0.34      0.42       591\n",
      "           2       0.34      0.62      0.44       132\n",
      "           3       0.66      0.88      0.75       417\n",
      "           4       0.87      0.74      0.80       717\n",
      "           5       0.83      0.75      0.79       708\n",
      "           6       0.50      0.83      0.62       245\n",
      "           7       0.23      0.90      0.37        86\n",
      "           8       0.87      0.77      0.82       704\n",
      "           9       0.57      0.42      0.48       100\n",
      "\n",
      "    accuracy                           0.67      4178\n",
      "   macro avg       0.60      0.67      0.60      4178\n",
      "weighted avg       0.71      0.67      0.67      4178\n",
      "\n"
     ]
    }
   ],
   "source": [
    "data_top_2 = data[data.columns[list(top_2_array)]].copy(deep=True)\n",
    "data_top_2['label'] = labels\n",
    "\n",
    "X = data_top_2.iloc[:, :-1]  # All columns but the label\n",
    "y = data_top_2['label']\n",
    "\n",
    "X_train, X_test, y_train, y_test = train_test_split(X, y, test_size=0.33)\n",
    "\n",
    "gnb = GaussianNB()\n",
    "\n",
    "y_pred = gnb.fit(X_train, y_train).predict(X_test)\n",
    "\n",
    "print(classification_report(y_test, y_pred))"
   ]
  },
  {
   "cell_type": "code",
   "execution_count": 12,
   "metadata": {},
   "outputs": [
    {
     "name": "stdout",
     "output_type": "stream",
     "text": [
      "              precision    recall  f1-score   support\n",
      "\n",
      "           0       0.56      0.60      0.58       448\n",
      "           1       0.61      0.36      0.45       624\n",
      "           2       0.36      0.69      0.48       131\n",
      "           3       0.69      0.92      0.79       424\n",
      "           4       0.88      0.76      0.82       697\n",
      "           5       0.89      0.81      0.85       701\n",
      "           6       0.70      0.84      0.76       254\n",
      "           7       0.30      0.86      0.45        72\n",
      "           8       0.91      0.84      0.87       717\n",
      "           9       0.69      0.71      0.70       110\n",
      "\n",
      "    accuracy                           0.72      4178\n",
      "   macro avg       0.66      0.74      0.67      4178\n",
      "weighted avg       0.75      0.72      0.73      4178\n",
      "\n"
     ]
    }
   ],
   "source": [
    "data_top_5 = data[data.columns[list(top_5_array)]].copy(deep=True)\n",
    "data_top_5['label'] = labels\n",
    "\n",
    "X = data_top_5.iloc[:, :-1]\n",
    "y = data_top_5['label']\n",
    "\n",
    "X_train, X_test, y_train, y_test = train_test_split(X, y, test_size=0.33)\n",
    "\n",
    "gnb = GaussianNB()\n",
    "\n",
    "y_pred = gnb.fit(X_train, y_train).predict(X_test)\n",
    "\n",
    "print(classification_report(y_test, y_pred))"
   ]
  },
  {
   "cell_type": "code",
   "execution_count": 13,
   "metadata": {},
   "outputs": [
    {
     "name": "stdout",
     "output_type": "stream",
     "text": [
      "              precision    recall  f1-score   support\n",
      "\n",
      "           0       0.61      0.62      0.61       493\n",
      "           1       0.59      0.40      0.48       588\n",
      "           2       0.47      0.70      0.56       143\n",
      "           3       0.76      0.95      0.84       421\n",
      "           4       0.90      0.86      0.88       681\n",
      "           5       0.95      0.86      0.90       721\n",
      "           6       0.77      0.87      0.82       266\n",
      "           7       0.52      0.90      0.66        77\n",
      "           8       0.91      0.88      0.89       679\n",
      "           9       0.67      0.85      0.75       109\n",
      "\n",
      "    accuracy                           0.77      4178\n",
      "   macro avg       0.71      0.79      0.74      4178\n",
      "weighted avg       0.78      0.77      0.77      4178\n",
      "\n"
     ]
    }
   ],
   "source": [
    "data_top_10 = data[data.columns[list(top_10_array)]].copy(deep=True)\n",
    "data_top_10['label'] = labels\n",
    "\n",
    "X = data_top_10.iloc[:, :-1]\n",
    "y = data_top_10['label']\n",
    "\n",
    "X_train, X_test, y_train, y_test = train_test_split(X, y, test_size=0.33)\n",
    "\n",
    "gnb = GaussianNB()\n",
    "\n",
    "y_pred = gnb.fit(X_train, y_train).predict(X_test)\n",
    "\n",
    "print(classification_report(y_test, y_pred))"
   ]
  },
  {
   "cell_type": "code",
   "execution_count": 14,
   "metadata": {},
   "outputs": [
    {
     "data": {
      "text/plain": [
       "array([[306,  96,  23,  19,   5,   1,  18,  13,   5,   7],\n",
       "       [171, 238,  69,  20,  15,   5,  49,   7,   8,   6],\n",
       "       [  9,  14, 100,   1,   1,   0,   1,   5,   9,   3],\n",
       "       [  0,  11,   5, 399,   2,   0,   0,   0,   2,   2],\n",
       "       [  0,   4,   7,  42, 588,  24,   0,   6,  10,   0],\n",
       "       [  1,   9,   2,  15,  35, 617,   0,  10,  20,  12],\n",
       "       [  8,  20,   1,   5,   0,   0, 232,   0,   0,   0],\n",
       "       [  0,   0,   1,   0,   2,   0,   0,  69,   1,   4],\n",
       "       [  6,  11,   4,  27,   5,   2,   0,  18, 595,  11],\n",
       "       [  3,   0,   2,   0,   2,   0,   0,   4,   5,  93]])"
      ]
     },
     "execution_count": 14,
     "metadata": {},
     "output_type": "execute_result"
    }
   ],
   "source": [
    "confusion_matrix(y_test, y_pred)"
   ]
  },
  {
   "cell_type": "markdown",
   "metadata": {},
   "source": [
    "# 7. Conclusions (Draft)\n",
    "\n",
    "### Which streets signs are harder to recognise?\n",
    "Based on the recall measure labels 1 and 8 are the harsdest to recognize.\n",
    "### Which street signs are most easily confused?\n",
    "Based on the confusion matrix the most confused sign is the label 2 and, in order, it's mistaken for labels 1, 8, 0 and 4. \n",
    "### Which attributes (fields) are more reliable and which are less reliable in classification of street signs?\n",
    "By looking at top_2_array we can identify the most reliable features (pixels). By doing some operations like the module we can see those pixels are closer to the centre of the image (or at least don't belong to the borders).\n",
    "Regarding the less reliable pixels we consider the ones with the lowest correlation value with respect to the label.\n",
    "### What was the purpose of Tasks 5 and 6?\n",
    "Prepare the data in a way that we keep the most relevant attributes.\n",
    "### What would happen if the data sets you used in Tasks 4, 5 and 6 were not randomised?\n",
    "It doens't happen anything, the results are the same.\n",
    "### What would happen if there is cross-correlation between the non-class attributes?\n",
    "There is actually cross-correlation between pixels that are close to each other. As a consecuence of that, if two pixels are correlated (adjacent) to each other, and one of them is included in the top 10 of the most correlated pixels with the label, the other is likely to be in the top 10 as well."
   ]
  }
 ],
 "metadata": {
  "kernelspec": {
   "display_name": "Python 3",
   "language": "python",
   "name": "python3"
  },
  "language_info": {
   "codemirror_mode": {
    "name": "ipython",
    "version": 3
   },
   "file_extension": ".py",
   "mimetype": "text/x-python",
   "name": "python",
   "nbconvert_exporter": "python",
   "pygments_lexer": "ipython3",
   "version": "3.6.8"
  }
 },
 "nbformat": 4,
 "nbformat_minor": 2
}
