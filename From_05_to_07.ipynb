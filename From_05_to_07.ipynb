{
 "cells": [
  {
   "cell_type": "code",
   "execution_count": 2,
   "metadata": {},
   "outputs": [],
   "source": [
    "# Point 5: Deeper analysis of the data\n",
    "\n",
    "import pandas as pd\n",
    "import numpy as np\n",
    "\n",
    "top_2_array = set()\n",
    "top_5_array = set()\n",
    "top_10_array = set()\n",
    "\n",
    "bottom_2_array = set()\n",
    "bottom_5_array = set()\n",
    "bottom_10_array = set()\n",
    "\n",
    "data = pd.read_csv('data/x_train_gr_smpl.csv')\n",
    "for i in range(10):\n",
    "    data = data.reindex(np.arange(data.shape[0]))\n",
    "    labels = pd.read_csv(f'data/y_train_smpl_{i}.csv')\n",
    "    data['label'] = labels\n",
    "    data = data.sample(frac=1)\n",
    "    \n",
    "    corr_label = data.drop(\"label\", axis=1).apply(lambda x: x.corr(data.label))\n",
    "    corr_label = [(index, abs(corr_val), i) for index, corr_val in enumerate(corr_label)]\n",
    "    corr_label = sorted(corr_label, key=lambda tup: tup[1], reverse=True)  # Order by correlation value\n",
    "            \n",
    "    for i, tup in enumerate(corr_label[:10]):\n",
    "        if i < 2:\n",
    "            top_2_array.add(tup[0])\n",
    "        if i < 5:\n",
    "            top_5_array.add(tup[0])\n",
    "        if i < 10:\n",
    "            top_10_array.add(tup[0]) #, tup[2]))\n",
    "            \n",
    "    for i, tup in enumerate(corr_label[-10:]):\n",
    "        if i < 2:\n",
    "            bottom_2_array.add(tup[0])\n",
    "        if i < 5:\n",
    "            bottom_5_array.add(tup[0])\n",
    "        if i < 10:\n",
    "            bottom_10_array.add(tup[0])"
   ]
  },
  {
   "cell_type": "code",
   "execution_count": 3,
   "metadata": {},
   "outputs": [],
   "source": [
    "# a = sorted([(int(round(x/48)), x % 48) for x in bottom_2_array])\n",
    "# a = a.filter(lambda (x, y): x >10 or x < 37)\n",
    "# print(a)\n",
    "# b = sorted([x % 48 for x in bottom_5_array])\n",
    "# print(b)\n",
    "# c = sorted([(int(round(x[0]/48)), x[0] % 48, x[1]) for x in top_10_array])\n",
    "# print(c)"
   ]
  },
  {
   "cell_type": "code",
   "execution_count": 4,
   "metadata": {},
   "outputs": [],
   "source": [
    "# Point 6: Try to improve the classification\n",
    "\n",
    "data = pd.read_csv('data/x_train_gr_smpl.csv')\n",
    "labels = pd.read_csv('data/y_train_smpl.csv')\n",
    "\n",
    "data_top_2 = data[data.columns[list(top_2_array)]].copy(deep=True)\n",
    "data_top_2['label'] = labels\n",
    "# data_top_2 = data_top_2.sample(frac=1)\n",
    "\n",
    "data_top_5 = data[data.columns[list(top_5_array)]].copy(deep=True)\n",
    "data_top_5['label'] = labels\n",
    "# data_top_5 = data_top_5.sample(frac=1)\n",
    "\n",
    "data_top_10 = data[data.columns[list(top_10_array)]].copy(deep=True)\n",
    "data_top_10['label'] = labels\n",
    "# data_top_10 = data_top_10.sample(frac=1)"
   ]
  },
  {
   "cell_type": "code",
   "execution_count": 5,
   "metadata": {},
   "outputs": [
    {
     "name": "stdout",
     "output_type": "stream",
     "text": [
      "              precision    recall  f1-score   support\n",
      "\n",
      "           0       0.20      0.33      0.25       456\n",
      "           1       0.30      0.20      0.24       617\n",
      "           2       0.09      0.78      0.17       131\n",
      "           3       0.88      0.55      0.68       425\n",
      "           4       0.55      0.40      0.46       703\n",
      "           5       0.90      0.51      0.65       706\n",
      "           6       0.49      0.64      0.56       276\n",
      "           7       0.27      0.38      0.32        86\n",
      "           8       0.37      0.06      0.10       676\n",
      "           9       0.33      0.43      0.38       102\n",
      "\n",
      "    accuracy                           0.37      4178\n",
      "   macro avg       0.44      0.43      0.38      4178\n",
      "weighted avg       0.51      0.37      0.39      4178\n",
      "\n"
     ]
    }
   ],
   "source": [
    "from sklearn.model_selection import train_test_split\n",
    "from sklearn.naive_bayes import GaussianNB\n",
    "from sklearn.metrics import confusion_matrix, classification_report\n",
    "\n",
    "X = data_top_2.iloc[:, :-1]  # All columns but the label\n",
    "y = data_top_2['label']\n",
    "\n",
    "X_train, X_test, y_train, y_test = train_test_split(X, y, test_size=0.33)\n",
    "\n",
    "gnb = GaussianNB()\n",
    "\n",
    "y_pred = gnb.fit(X_train, y_train).predict(X_test)\n",
    "\n",
    "print(classification_report(y_test, y_pred))"
   ]
  },
  {
   "cell_type": "code",
   "execution_count": 6,
   "metadata": {},
   "outputs": [
    {
     "name": "stdout",
     "output_type": "stream",
     "text": [
      "              precision    recall  f1-score   support\n",
      "\n",
      "           0       0.26      0.37      0.31       488\n",
      "           1       0.29      0.21      0.24       629\n",
      "           2       0.11      0.93      0.19       131\n",
      "           3       0.90      0.60      0.72       430\n",
      "           4       0.58      0.33      0.42       694\n",
      "           5       0.95      0.46      0.62       740\n",
      "           6       0.53      0.68      0.59       244\n",
      "           7       0.16      0.40      0.23        83\n",
      "           8       0.62      0.09      0.16       634\n",
      "           9       0.21      0.51      0.30       105\n",
      "\n",
      "    accuracy                           0.38      4178\n",
      "   macro avg       0.46      0.46      0.38      4178\n",
      "weighted avg       0.57      0.38      0.40      4178\n",
      "\n"
     ]
    }
   ],
   "source": [
    "X = data_top_5.iloc[:, :-1]\n",
    "y = data_top_5['label']\n",
    "\n",
    "X_train, X_test, y_train, y_test = train_test_split(X, y, test_size=0.33)\n",
    "\n",
    "gnb = GaussianNB()\n",
    "\n",
    "y_pred = gnb.fit(X_train, y_train).predict(X_test)\n",
    "\n",
    "print(classification_report(y_test, y_pred))"
   ]
  },
  {
   "cell_type": "code",
   "execution_count": 7,
   "metadata": {},
   "outputs": [
    {
     "name": "stdout",
     "output_type": "stream",
     "text": [
      "              precision    recall  f1-score   support\n",
      "\n",
      "           0       0.24      0.38      0.29       465\n",
      "           1       0.30      0.18      0.23       597\n",
      "           2       0.12      0.89      0.21       151\n",
      "           3       0.96      0.60      0.74       437\n",
      "           4       0.61      0.36      0.45       700\n",
      "           5       0.88      0.50      0.64       692\n",
      "           6       0.53      0.69      0.60       255\n",
      "           7       0.15      0.41      0.21        86\n",
      "           8       0.68      0.11      0.19       683\n",
      "           9       0.27      0.49      0.35       112\n",
      "\n",
      "    accuracy                           0.39      4178\n",
      "   macro avg       0.47      0.46      0.39      4178\n",
      "weighted avg       0.58      0.39      0.41      4178\n",
      "\n"
     ]
    }
   ],
   "source": [
    "X = data_top_10.iloc[:, :-1]\n",
    "y = data_top_10['label']\n",
    "\n",
    "X_train, X_test, y_train, y_test = train_test_split(X, y, test_size=0.33)\n",
    "\n",
    "gnb = GaussianNB()\n",
    "\n",
    "y_pred = gnb.fit(X_train, y_train).predict(X_test)\n",
    "\n",
    "print(classification_report(y_test, y_pred))"
   ]
  },
  {
   "cell_type": "code",
   "execution_count": 8,
   "metadata": {},
   "outputs": [
    {
     "data": {
      "text/plain": [
       "array([[175,  42, 186,   1,  15,   1,  19,  20,   3,   3],\n",
       "       [152, 110, 243,   0,  17,   1,  13,  33,   0,  28],\n",
       "       [  2,   1, 135,   0,   0,   0,   0,  13,   0,   0],\n",
       "       [ 39,  39,  58, 264,  23,   2,   3,   0,   2,   7],\n",
       "       [104,  36, 159,   3, 250,   1,  17,  97,  14,  19],\n",
       "       [109,  43,  66,   4,   2, 345,  36,   0,  12,  75],\n",
       "       [ 27,  13,  11,   0,   5,  14, 175,   3,   4,   3],\n",
       "       [  8,  15,  11,   0,  13,   0,   4,  35,   0,   0],\n",
       "       [103,  45, 243,   3,  84,  25,  51,  39,  75,  15],\n",
       "       [  9,  23,  14,   0,   0,   1,  10,   0,   0,  55]])"
      ]
     },
     "execution_count": 8,
     "metadata": {},
     "output_type": "execute_result"
    }
   ],
   "source": [
    "confusion_matrix(y_test, y_pred)"
   ]
  },
  {
   "cell_type": "markdown",
   "metadata": {},
   "source": [
    "# 7. Conclusions (Draft)\n",
    "\n",
    "### Which streets signs are harder to recognise?\n",
    "Based on the recall measure labels 1 and 8 are the harsdest to recognize.\n",
    "### Which street signs are most easily confused?\n",
    "Based on the confusion matrix the most confused sign is the label 2 and, in order, it's mistaken for labels 1, 8, 0 and 4. \n",
    "### Which attributes (fields) are more reliable and which are less reliable in classification of street signs?\n",
    "By looking at top_2_array we can identify the most reliable features (pixels). By doing some operations like the module we can see those pixels are closer to the centre of the image (or at least don't belong to the borders).\n",
    "Regarding the less reliable pixels we consider the ones with the lowest correlation value with respect to the label.\n",
    "### What was the purpose of Tasks 5 and 6?\n",
    "Prepare the data in a way that we keep the most relevant attributes.\n",
    "### What would happen if the data sets you used in Tasks 4, 5 and 6 were not randomised?\n",
    "It doens't happen anything, the results are the same.\n",
    "### What would happen if there is cross-correlation between the non-class attributes?\n",
    "There is actually cross-correlation between pixels that are close to each other. As a consecuence of that, if two pixels are correlated (adjacent) to each other, and one of them is included in the top 10 of the most correlated pixels with the label, the other is likely to be in the top 10 as well."
   ]
  },
  {
   "cell_type": "code",
   "execution_count": 33,
   "metadata": {},
   "outputs": [],
   "source": [
    "from sklearn.cluster import KMeans\n",
    "from sklearn.metrics import homogeneity_score\n",
    "\n",
    "estimator = KMeans(n_clusters=10, random_state=1, n_jobs=-1).fit(data_top_10)"
   ]
  },
  {
   "cell_type": "code",
   "execution_count": 34,
   "metadata": {},
   "outputs": [
    {
     "name": "stdout",
     "output_type": "stream",
     "text": [
      "0.20017461793830968\n"
     ]
    }
   ],
   "source": [
    "print(homogeneity_score(y, estimator.labels_))"
   ]
  },
  {
   "cell_type": "code",
   "execution_count": null,
   "metadata": {},
   "outputs": [],
   "source": []
  }
 ],
 "metadata": {
  "kernelspec": {
   "display_name": "Python 3",
   "language": "python",
   "name": "python3"
  },
  "language_info": {
   "codemirror_mode": {
    "name": "ipython",
    "version": 3
   },
   "file_extension": ".py",
   "mimetype": "text/x-python",
   "name": "python",
   "nbconvert_exporter": "python",
   "pygments_lexer": "ipython3",
   "version": "3.7.4"
  }
 },
 "nbformat": 4,
 "nbformat_minor": 2
}
