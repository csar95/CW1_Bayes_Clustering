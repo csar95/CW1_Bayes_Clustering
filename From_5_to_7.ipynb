{
 "cells": [
  {
   "cell_type": "code",
   "execution_count": 1,
   "metadata": {},
   "outputs": [],
   "source": [
    "# Point 5: Deeper analysis of the data\n",
    "\n",
    "import pandas as pd\n",
    "import numpy as np\n",
    "\n",
    "top_2_array = []\n",
    "top_5_array = []\n",
    "top_10_array = []\n",
    "\n",
    "data = pd.read_csv('data/x_train_gr_smpl.csv')\n",
    "for i in range(10):\n",
    "    data = data.reindex(np.arange(data.shape[0]))\n",
    "    labels = pd.read_csv(f'data/y_train_smpl_{i}.csv')\n",
    "    data['label'] = labels\n",
    "    data = data.sample(frac=1)\n",
    "    \n",
    "    corr_label = data.drop(\"label\", axis=1).apply(lambda x: x.corr(data.label))\n",
    "    corr_label = [(index, abs(corr_val)) for index, corr_val in enumerate(corr_label)]\n",
    "    corr_label = sorted(corr_label, key=lambda tup: tup[1], reverse=True)  # Order by correlation value\n",
    "    \n",
    "    for tup in corr_label[:2]:\n",
    "        if tup[0] not in top_2_array:\n",
    "            top_2_array.append(tup[0])\n",
    "    for tup in corr_label[:5]:\n",
    "        if tup[0] not in top_5_array:\n",
    "            top_5_array.append(tup[0])\n",
    "    for tup in corr_label[:10]:\n",
    "        if tup[0] not in top_10_array:\n",
    "            top_10_array.append(tup[0])\n",
    "            "
   ]
  },
  {
   "cell_type": "code",
   "execution_count": 2,
   "metadata": {},
   "outputs": [
    {
     "name": "stdout",
     "output_type": "stream",
     "text": [
      "20\n",
      "[1172, 1171, 1094, 1046, 1084, 1132, 1696, 1697, 1849, 1850, 1319, 1367, 1186, 1738, 1168, 1120, 1280, 1232, 1362, 1410]\n"
     ]
    }
   ],
   "source": [
    "print(len(top_2_array))\n",
    "print(top_2_array)"
   ]
  },
  {
   "cell_type": "code",
   "execution_count": 3,
   "metadata": {},
   "outputs": [
    {
     "name": "stdout",
     "output_type": "stream",
     "text": [
      "49\n",
      "[1172, 1171, 1468, 1220, 1472, 1094, 1046, 1142, 998, 1084, 1132, 1083, 1131, 1082, 1696, 1697, 1648, 1649, 1695, 1849, 1850, 1848, 1897, 1801, 1319, 1367, 1271, 1368, 1270, 1186, 1738, 1934, 1737, 1786, 1168, 1120, 1169, 1119, 1167, 1280, 1232, 1328, 1184, 1375, 1362, 1410, 1363, 1364, 1411]\n"
     ]
    }
   ],
   "source": [
    "print(len(top_5_array))\n",
    "print(top_5_array)"
   ]
  },
  {
   "cell_type": "code",
   "execution_count": 4,
   "metadata": {},
   "outputs": [
    {
     "name": "stdout",
     "output_type": "stream",
     "text": [
      "98\n",
      "[1172, 1171, 1468, 1220, 1472, 1221, 1123, 1469, 1419, 1519, 1094, 1046, 1142, 998, 1190, 1173, 997, 981, 1045, 1084, 1132, 1083, 1131, 1082, 1130, 1036, 1081, 1179, 1035, 1696, 1697, 1648, 1649, 1695, 1698, 1745, 1744, 1713, 1712, 1849, 1850, 1848, 1897, 1801, 1802, 1898, 1800, 1896, 1043, 1319, 1367, 1271, 1368, 1270, 1318, 1320, 1415, 1416, 1222, 1186, 1738, 1934, 1737, 1786, 1787, 1885, 1689, 1983, 1688, 1168, 1120, 1169, 1119, 1167, 1121, 1216, 1072, 1071, 1215, 1280, 1232, 1328, 1184, 1375, 1376, 1327, 1470, 1423, 1422, 1362, 1410, 1363, 1364, 1411, 1365, 1412, 1317, 1413]\n"
     ]
    }
   ],
   "source": [
    "print(len(top_10_array))\n",
    "print(top_10_array)"
   ]
  },
  {
   "cell_type": "code",
   "execution_count": null,
   "metadata": {},
   "outputs": [],
   "source": []
  }
 ],
 "metadata": {
  "kernelspec": {
   "display_name": "Python 3",
   "language": "python",
   "name": "python3"
  },
  "language_info": {
   "codemirror_mode": {
    "name": "ipython",
    "version": 3
   },
   "file_extension": ".py",
   "mimetype": "text/x-python",
   "name": "python",
   "nbconvert_exporter": "python",
   "pygments_lexer": "ipython3",
   "version": "3.7.1"
  }
 },
 "nbformat": 4,
 "nbformat_minor": 2
}
