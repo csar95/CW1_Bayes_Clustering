{
 "cells": [
  {
   "cell_type": "code",
   "execution_count": 217,
   "metadata": {},
   "outputs": [],
   "source": [
    "import pandas as pd\n",
    "import numpy as np\n",
    "import cv2\n",
    "import matplotlib.pyplot as plt\n",
    "from sklearn.model_selection import train_test_split\n",
    "from sklearn.cluster import KMeans, MiniBatchKMeans\n",
    "from sklearn.metrics import confusion_matrix, classification_report, homogeneity_score"
   ]
  },
  {
   "cell_type": "code",
   "execution_count": 218,
   "metadata": {},
   "outputs": [],
   "source": [
    "df = pd.read_csv('data/x_train_gr_smpl.csv')\n",
    "labels = pd.read_csv('data/y_train_smpl.csv')\n",
    "labels = np.reshape(labels.values, newshape=(1, -1))"
   ]
  },
  {
   "cell_type": "code",
   "execution_count": 253,
   "metadata": {},
   "outputs": [
    {
     "name": "stdout",
     "output_type": "stream",
     "text": [
      "0.4941480704250148\n"
     ]
    }
   ],
   "source": [
    "X_train = []\n",
    "for i in range(df.shape[0]):\n",
    "    img = np.uint8(df.iloc[i])\n",
    "    edited = cv2.Canny(img, 10, 30)\n",
    "    edited = cv2.GaussianBlur(edited, (5, 5), 0)\n",
    "    X_train.append(edited.reshape((1,-1))[0])\n",
    "    \n",
    "#data = pd.DataFrame(X_train)\n",
    "estimator = KMeans(n_clusters=10, max_iter=50000, random_state=1).fit(X_train)\n",
    "print(homogeneity_score(labels[0], estimator.labels_))"
   ]
  },
  {
   "cell_type": "code",
   "execution_count": 247,
   "metadata": {},
   "outputs": [
    {
     "data": {
      "image/png": "[encoded data removed]",
      "text/plain": [
       "<Figure size 432x288 with 2 Axes>"
      ]
     },
     "metadata": {},
     "output_type": "display_data"
    }
   ],
   "source": [
    "i = 200\n",
    "img = np.uint8(df.iloc[i])\n",
    "edited = cv2.GaussianBlur(img, (3, 3), 0)\n",
    "edited = cv2.Canny(edited, 10, 100)\n",
    "\n",
    "img = img.reshape((48, 48))\n",
    "edited = edited.reshape((48, 48))\n",
    "\n",
    "plt.subplot(121)\n",
    "plt.imshow(img, cmap='gray')\n",
    "plt.xticks([]), plt.yticks([])\n",
    "\n",
    "plt.subplot(122)\n",
    "plt.imshow(edited, 'gray')\n",
    "plt.xticks([]), plt.yticks([])\n",
    "\n",
    "plt.show()"
   ]
  },
  {
   "cell_type": "code",
   "execution_count": null,
   "metadata": {},
   "outputs": [],
   "source": []
  }
 ],
 "metadata": {
  "kernelspec": {
   "display_name": "Python 3",
   "language": "python",
   "name": "python3"
  },
  "language_info": {
   "codemirror_mode": {
    "name": "ipython",
    "version": 3
   },
   "file_extension": ".py",
   "mimetype": "text/x-python",
   "name": "python",
   "nbconvert_exporter": "python",
   "pygments_lexer": "ipython3",
   "version": "3.7.4"
  }
 },
 "nbformat": 4,
 "nbformat_minor": 2
}
