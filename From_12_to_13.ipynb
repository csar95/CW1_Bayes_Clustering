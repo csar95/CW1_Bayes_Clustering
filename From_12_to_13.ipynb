{
 "cells": [
  {
   "cell_type": "code",
   "execution_count": 1,
   "metadata": {},
   "outputs": [],
   "source": [
    "import cv2\n",
    "import pandas as pd\n",
    "import numpy as np\n",
    "\n",
    "def preprocessing(val=True):\n",
    "    \n",
    "    data = pd.read_csv('data/x_train_gr_smpl.csv')\n",
    "    labels = pd.read_csv('data/y_train_smpl.csv')\n",
    "\n",
    "    if(val):\n",
    "        ## ---------------- Data preparation ---------------- ##\n",
    "        X_train = []\n",
    "        for i in range(data.shape[0]):\n",
    "            img = np.uint8(data.iloc[i])\n",
    "            edited = cv2.Canny(img, 10, 30)\n",
    "            edited = cv2.GaussianBlur(edited, (5, 5), 0)\n",
    "            X_train.append(edited.reshape((1,-1))[0])\n",
    "\n",
    "        data = pd.DataFrame(X_train)\n",
    "        ## -------------------------------------------------- ##\n",
    "\n",
    "    return data, labels"
   ]
  },
  {
   "cell_type": "code",
   "execution_count": 2,
   "metadata": {},
   "outputs": [],
   "source": [
    "from sklearn.cluster import KMeans\n",
    "from sklearn.neighbors import NearestNeighbors\n",
    "from sklearn.model_selection import train_test_split\n",
    "from sklearn.metrics import homogeneity_score"
   ]
  },
  {
   "cell_type": "code",
   "execution_count": 3,
   "metadata": {},
   "outputs": [
    {
     "name": "stdout",
     "output_type": "stream",
     "text": [
      "Number of clusters: 10 Homogeneity score: 0.4950284618523185\n",
      "Number of clusters: 11 Homogeneity score: 0.48341617311681173\n",
      "Number of clusters: 12 Homogeneity score: 0.5167613058592444\n",
      "Number of clusters: 13 Homogeneity score: 0.5204136214297174\n",
      "Number of clusters: 14 Homogeneity score: 0.5530250196404715\n",
      "Number of clusters: 15 Homogeneity score: 0.5568376753630506\n",
      "Number of clusters: 16 Homogeneity score: 0.5833472105057467\n",
      "Number of clusters: 17 Homogeneity score: 0.5763995636211059\n",
      "Number of clusters: 18 Homogeneity score: 0.5815075350489741\n",
      "Number of clusters: 19 Homogeneity score: 0.6004386672475748\n",
      "Number of clusters: 20 Homogeneity score: 0.6146503165589815\n",
      "Number of clusters: 50 Homogeneity score: 0.6949833069037257\n",
      "Number of clusters: 100 Homogeneity score: 0.7471942791979834\n"
     ]
    }
   ],
   "source": [
    "n_clusters = [10, 11, 12, 13, 14, 15, 16, 17, 18, 19, 20, 50, 100]\n",
    "\n",
    "data, labels = preprocessing()\n",
    "labels = np.reshape(labels.values, newshape=(1, -1))\n",
    "\n",
    "for n in n_clusters:\n",
    "    estimator = KMeans(n_clusters=n, max_iter=50000, random_state=1, n_jobs=-1).fit(data)\n",
    "    print(f'Number of clusters: {n} Homogeneity score: {homogeneity_score(labels[0], estimator.labels_)}')"
   ]
  }
 ],
 "metadata": {
  "kernelspec": {
   "display_name": "Python 3",
   "language": "python",
   "name": "python3"
  },
  "language_info": {
   "codemirror_mode": {
    "name": "ipython",
    "version": 3
   },
   "file_extension": ".py",
   "mimetype": "text/x-python",
   "name": "python",
   "nbconvert_exporter": "python",
   "pygments_lexer": "ipython3",
   "version": "3.7.4"
  }
 },
 "nbformat": 4,
 "nbformat_minor": 2
}
